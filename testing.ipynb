{
 "cells": [
  {
   "cell_type": "code",
   "execution_count": null,
   "id": "8b245b52-8df9-4832-a287-9d1e1bc11374",
   "metadata": {},
   "outputs": [],
   "source": [
    "import plotly.express as px\n",
    "import pandas as pd\n",
    "import numpy as np\n",
    "\n",
    "# Generate random data\n",
    "np.random.seed(42)\n",
    "num_points = 100\n",
    "data = {\n",
    "    'X': np.random.rand(num_points),\n",
    "    'Y': np.random.rand(num_points),\n",
    "}\n",
    "\n",
    "# Create a DataFrame from the random data\n",
    "df = pd.DataFrame(data)\n",
    "\n",
    "# Create a scatter plot using Plotly\n",
    "fig = px.scatter(df, x='X', y='Y', title='Random Scatter Plot')\n",
    "\n",
    "# Show the plot\n",
    "# fig.show()\n",
    "\n",
    "# report_name = \"scatter_plot\"\n",
    "try:\n",
    "    fig.write_html(f'{report_name}.html')\n",
    "except:\n",
    "    fig.write_htm(\"custom_report.html\")"
   ]
  }
 ],
 "metadata": {
  "kernelspec": {
   "display_name": "Python 3 (ipykernel)",
   "language": "python",
   "name": "python3"
  },
  "language_info": {
   "codemirror_mode": {
    "name": "ipython",
    "version": 3
   },
   "file_extension": ".py",
   "mimetype": "text/x-python",
   "name": "python",
   "nbconvert_exporter": "python",
   "pygments_lexer": "ipython3",
   "version": "3.10.12"
  }
 },
 "nbformat": 4,
 "nbformat_minor": 5
}
